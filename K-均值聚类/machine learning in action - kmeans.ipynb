{
 "cells": [
  {
   "cell_type": "markdown",
   "metadata": {},
   "source": [
    "# k-均值聚类\n",
    "优点：实现容易\n",
    "\n",
    "缺点：可能收敛到局部最小值，在大规模数据集上收敛较慢\n",
    "\n",
    "k-均值聚类是无监督学习的算法，没有训练过程。主要思想是在数据集中随机生成K个簇质心，然后根据每个点和质心之间的距离远近情况，将该点聚类到离他最近的那个质心所属与的那一类;一直迭代，直到任何点的簇不再发生改变为止。\n"
   ]
  },
  {
   "cell_type": "code",
   "execution_count": 1,
   "metadata": {
    "collapsed": false
   },
   "outputs": [],
   "source": [
    "from numpy import *\n",
    "\n",
    "def loadDataSet(fileName):      #general function to parse tab -delimited floats\n",
    "    dataMat = []                #assume last column is target value\n",
    "    fr = open(fileName)\n",
    "    for line in fr.readlines():\n",
    "        curLine = line.strip().split('\\t')\n",
    "        fltLine = list(map(float,curLine)) #map all elements to float()\n",
    "        dataMat.append(fltLine)\n",
    "    return dataMat\n",
    "\n",
    "def distEclud(vecA, vecB):\n",
    "    return sqrt(sum(power(vecA - vecB, 2))) #la.norm(vecA-vecB)\n",
    "\n",
    "def randCent(dataSet, k):\n",
    "    n = shape(dataSet)[1]\n",
    "    centroids = mat(zeros((k,n)))#create centroid mat\n",
    "    for j in range(n):#create random cluster centers, within bounds of each dimension\n",
    "        minJ = min(dataSet[:,j]) \n",
    "        rangeJ = float(max(dataSet[:,j]) - minJ)\n",
    "        centroids[:,j] = mat(minJ + rangeJ * random.rand(k,1))\n",
    "    return centroids"
   ]
  },
  {
   "cell_type": "code",
   "execution_count": 2,
   "metadata": {
    "collapsed": false
   },
   "outputs": [
    {
     "data": {
      "text/plain": [
       "array([[ 1.658985,  4.285136],\n",
       "       [-3.453687,  3.424321],\n",
       "       [ 4.838138, -1.151539],\n",
       "       [-5.379713, -3.362104],\n",
       "       [ 0.972564,  2.924086]])"
      ]
     },
     "execution_count": 2,
     "metadata": {},
     "output_type": "execute_result"
    }
   ],
   "source": [
    "#测试一下\n",
    "fineName = '/home/wl/文档/machinelearninginaction/Ch10/testSet.txt'\n",
    "dataMat = mat(loadDataSet(fineName))\n",
    "dataMat = array(dataMat)\n",
    "dataMat[:5]"
   ]
  },
  {
   "cell_type": "code",
   "execution_count": 3,
   "metadata": {
    "collapsed": false
   },
   "outputs": [
    {
     "data": {
      "text/plain": [
       "matrix([[-0.34049577,  2.77217441],\n",
       "        [-1.135311  , -3.2239427 ]])"
      ]
     },
     "execution_count": 3,
     "metadata": {},
     "output_type": "execute_result"
    }
   ],
   "source": [
    "randCent(dataMat,2)"
   ]
  },
  {
   "cell_type": "code",
   "execution_count": 4,
   "metadata": {
    "collapsed": false
   },
   "outputs": [
    {
     "data": {
      "text/plain": [
       "5.184632816681332"
      ]
     },
     "execution_count": 4,
     "metadata": {},
     "output_type": "execute_result"
    }
   ],
   "source": [
    "distEclud(dataMat[0],dataMat[1])"
   ]
  },
  {
   "cell_type": "code",
   "execution_count": 5,
   "metadata": {
    "collapsed": true
   },
   "outputs": [],
   "source": [
    "def kMeans(dataSet, k, distMeas=distEclud, createCent=randCent):\n",
    "    m = shape(dataSet)[0]\n",
    "    clusterAssment = mat(zeros((m,2)))#create mat to assign data points \n",
    "                                      #to a centroid, also holds SE of each point\n",
    "    centroids = createCent(dataSet, k)\n",
    "    clusterChanged = True\n",
    "    while clusterChanged:\n",
    "        clusterChanged = False\n",
    "        for i in range(m):#将数据集中每个点和K个质心点依次求距离\n",
    "            minDist = inf; minIndex = -1 #初始最小距离为无穷大，初始每一个点不属于每一类\n",
    "            for j in range(k):\n",
    "                distJI = distMeas(centroids[j,:],dataSet[i,:]) #计算第 i 个点和第 j 个质心的距离\n",
    "                if distJI < minDist:\n",
    "                    minDist = distJI; minIndex = j #将第 i 个点与其距离最小的质心聚类在一起\n",
    "            if clusterAssment[i,0] != minIndex: clusterChanged = True #如果第 i 点的聚类结果还在改变，则再次循环迭代，直到聚类结果不再改变\n",
    "            clusterAssment[i,:] = minIndex,minDist**2 #[a ,b]，a存储该点所聚类的点名称，b存储它们之间的距离平方\n",
    "        print (centroids)\n",
    "        for cent in range(k):#recalculate centroids更新质心的位置\n",
    "            ptsInClust = dataSet[nonzero(clusterAssment[:,0].A==cent)[0]]#nonzero()返回数组中不为0值的元素的下标\n",
    "            centroids[cent,:] = mean(ptsInClust, axis=0) #assign centroid to mean 将和同一个质心聚类在一起的点，按列计算平均值，一一赋值给质心坐标相应的位置，得到质心坐标\n",
    "    return centroids, clusterAssment"
   ]
  },
  {
   "cell_type": "code",
   "execution_count": 6,
   "metadata": {
    "collapsed": false
   },
   "outputs": [
    {
     "name": "stdout",
     "output_type": "stream",
     "text": [
      "[[-0.5580457  -2.57796158]\n",
      " [-5.0091961   3.28317935]\n",
      " [ 4.74910455  0.72387864]\n",
      " [-3.46121528 -0.79597091]]\n",
      "[[ 1.29373229 -3.15359267]\n",
      " [-2.54183917  2.93204467]\n",
      " [ 2.95373358  2.32801413]\n",
      " [-3.56434918 -2.23997653]]\n",
      "[[ 2.44502437 -2.980011  ]\n",
      " [-2.46154315  2.78737555]\n",
      " [ 2.80642645  2.73635527]\n",
      " [-3.53973889 -2.89384326]]\n",
      "[[ 2.65077367 -2.79019029]\n",
      " [-2.46154315  2.78737555]\n",
      " [ 2.6265299   3.10868015]\n",
      " [-3.53973889 -2.89384326]]\n"
     ]
    }
   ],
   "source": [
    "myCenttroids, clustAssing = kMeans(dataMat, 4)\n",
    "#将‘testSet.txt'文件中的数据按4个类别进行聚类，经过3次迭代后k-均值算法收敛。"
   ]
  },
  {
   "cell_type": "markdown",
   "metadata": {},
   "source": [
    "# 使用后处理来提高聚类性能\n",
    "k-均值聚类中，k是用户事先确定好的参数，那么如何知道k的取值是否正确呢？在包含族分诶结果的矩阵clusterAssment中保存折每个点的误差，即该点到簇质心的距离平方和。可以利用误差来评价聚类效果。\n",
    "\n",
    "使用SSE（误差平方和）来度量聚类效果。，SSE越小表示数据点越接近于它们的质心，聚类效果也越好。\n",
    "\n",
    "* 将具有最大SSE值的簇划分为两个簇，为保持簇总数不变，可以将两个簇进行合并\n",
    "* 合并最近的质心\n",
    "* 合并两个使得SSE增幅最小的质心\n",
    "\n",
    "# 二分K-均值算法\n",
    "克服K-均值算法收敛与局部最小值的问题。\n",
    "\n",
    "将所有点堪称一个簇\n",
    "\n",
    "当簇小于k时：\n",
    "\n",
    "对每一个簇：\n",
    "\n",
    "    计算总误差\n",
    "    \n",
    "    在给定的簇上面进行K均值聚类（k=2）\n",
    "    \n",
    "    计算将该簇一分为二之后的总误差\n",
    "    \n",
    "选择使得总误差最小的那个簇进行划分操作"
   ]
  },
  {
   "cell_type": "code",
   "execution_count": 9,
   "metadata": {
    "collapsed": false,
    "scrolled": true
   },
   "outputs": [],
   "source": [
    "def biKmeans(dataSet, k, distMeas=distEclud):\n",
    "    m = shape(dataSet)[0]\n",
    "    #创建矩阵保存簇分配结果和平方误差\n",
    "    clusterAssment = mat(zeros((m,2)))\n",
    "    centroid0 = mean(dataSet, axis=0).tolist()[0]\n",
    "    #得到第一个质心，初始簇\n",
    "    centList =[centroid0] #create a list with one centroid\n",
    "    for j in range(m):#calc initial Error\n",
    "        clusterAssment[j,1] = distMeas(mat(centroid0), dataSet[j,:])**2\n",
    "    while (len(centList) < k):\n",
    "        lowestSSE = inf\n",
    "        #遍历每一个簇\n",
    "        for i in range(len(centList)):\n",
    "            #clusterAssment[:,0].A==i：取矩阵的第一列转换乘Array数组，取簇编号为 i 的所有点\n",
    "            #clusterAssment[:,0].A==i：得到一个布尔数组\n",
    "            #nonzeros(a)返回数组a中值不为零的元素的下标\n",
    "            ptsInCurrCluster = dataSet[nonzero(clusterAssment[:,0].A==i)[0],:]#get the data points currently in cluster i\n",
    "            #将一个簇分成2个簇，保存结果\n",
    "            centroidMat, splitClustAss = kMeans(ptsInCurrCluster, 2, distMeas)\n",
    "            sseSplit = sum(splitClustAss[:,1])#计算各点平方误差之和compare the SSE to the currrent minimum\n",
    "            sseNotSplit = sum(clusterAssment[nonzero(clusterAssment[:,0].A!=i)[0],1])\n",
    "            print (\"sseSplit, and notSplit: \",sseSplit,sseNotSplit)\n",
    "            if (sseSplit + sseNotSplit) < lowestSSE:\n",
    "                bestCentToSplit = i\n",
    "                bestNewCents = centroidMat\n",
    "                bestClustAss = splitClustAss.copy()\n",
    "                lowestSSE = sseSplit + sseNotSplit\n",
    "        bestClustAss[nonzero(bestClustAss[:,0].A == 1)[0],0] = len(centList) #change 1 to 3,4, or whatever\n",
    "        bestClustAss[nonzero(bestClustAss[:,0].A == 0)[0],0] = bestCentToSplit\n",
    "        print ('the bestCentToSplit is: ',bestCentToSplit)\n",
    "        print ('the len of bestClustAss is: ', len(bestClustAss))\n",
    "        centList[bestCentToSplit] = bestNewCents[0,:].tolist()[0]#replace a centroid with two best centroids \n",
    "        centList.append(bestNewCents[1,:].tolist()[0])\n",
    "        clusterAssment[nonzero(clusterAssment[:,0].A == bestCentToSplit)[0],:]= bestClustAss#reassign new clusters, and SSE\n",
    "    return mat(centList), clusterAssment"
   ]
  },
  {
   "cell_type": "code",
   "execution_count": 10,
   "metadata": {
    "collapsed": false
   },
   "outputs": [
    {
     "data": {
      "text/plain": [
       "array([[ 3.275154,  2.957587],\n",
       "       [-3.344465,  2.603513],\n",
       "       [ 0.355083, -3.376585],\n",
       "       [ 1.852435,  3.547351],\n",
       "       [-2.078973,  2.552013]])"
      ]
     },
     "execution_count": 10,
     "metadata": {},
     "output_type": "execute_result"
    }
   ],
   "source": [
    "#测试一下\n",
    "fineName = '/home/wl/文档/machinelearninginaction/Ch10/testSet2.txt'\n",
    "dataMat3 = mat(loadDataSet(fineName))\n",
    "dataMat3 = array(dataMat3) #dataMat3是一个对象地址，需要使用list 或者array来提取其中的数据\n",
    "dataMat3[:5]"
   ]
  },
  {
   "cell_type": "code",
   "execution_count": 11,
   "metadata": {
    "collapsed": false
   },
   "outputs": [
    {
     "name": "stdout",
     "output_type": "stream",
     "text": [
      "[[-0.46255493  2.58639106]\n",
      " [ 4.03341805  2.79613222]]\n",
      "[[-1.48868947  0.49011019]\n",
      " [ 3.20884012  3.08500406]]\n",
      "[[-1.70351595  0.27408125]\n",
      " [ 2.93386365  3.12782785]]\n",
      "sseSplit, and notSplit:  541.297629265 0.0\n",
      "the bestCentToSplit is:  0\n",
      "the len of bestClustAss is:  60\n",
      "[[-2.88762098  0.47228938]\n",
      " [-1.94340499 -3.85675394]]\n",
      "[[-2.79578405  2.92664291]\n",
      " [-0.36852161 -2.96793856]]\n",
      "[[-2.94737575  3.3263781 ]\n",
      " [-0.45965615 -2.7782156 ]]\n",
      "sseSplit, and notSplit:  67.2202000798 39.5292986821\n",
      "[[ 3.38701994  1.51624213]\n",
      " [ 2.87594555  2.95765727]]\n",
      "[[ 3.3570382   1.8464974 ]\n",
      " [ 2.79280547  3.554938  ]]\n",
      "[[ 3.1604785   1.93671333]\n",
      " [ 2.836743    3.6383055 ]]\n",
      "sseSplit, and notSplit:  26.9283722645 501.768330583\n",
      "the bestCentToSplit is:  0\n",
      "the len of bestClustAss is:  40\n"
     ]
    }
   ],
   "source": [
    "centList, myNewAssments = biKmeans(dataMat3,3)"
   ]
  },
  {
   "cell_type": "code",
   "execution_count": 34,
   "metadata": {
    "collapsed": false
   },
   "outputs": [
    {
     "data": {
      "text/plain": [
       "matrix([[-2.94737575,  3.3263781 ],\n",
       "        [ 2.93386365,  3.12782785],\n",
       "        [-0.45965615, -2.7782156 ]])"
      ]
     },
     "execution_count": 34,
     "metadata": {},
     "output_type": "execute_result"
    }
   ],
   "source": [
    "centList"
   ]
  },
  {
   "cell_type": "code",
   "execution_count": 14,
   "metadata": {
    "collapsed": false
   },
   "outputs": [
    {
     "data": {
      "text/plain": [
       "matrix([[ 1.        ,  0.14546105],\n",
       "        [ 0.        ,  0.68021383],\n",
       "        [ 2.        ,  1.02184582],\n",
       "        [ 1.        ,  1.3454876 ],\n",
       "        [ 0.        ,  1.35376464]])"
      ]
     },
     "execution_count": 14,
     "metadata": {},
     "output_type": "execute_result"
    }
   ],
   "source": [
    "myNewAssments[:5]"
   ]
  },
  {
   "cell_type": "code",
   "execution_count": 43,
   "metadata": {
    "collapsed": false
   },
   "outputs": [],
   "source": [
    "def plotBestFit(dataArr,centList,clusterAssment):\n",
    "    \"\"\"绘制聚类结果示意图\"\"\"\n",
    "    import matplotlib.pyplot as plt\n",
    "    lenData = len(clusterAssment)\n",
    "    clusterAssment = array(clusterAssment)\n",
    "    xcord0 = []; ycord0 = []\n",
    "    xcord1 = []; ycord1 = []\n",
    "    xcord2 = []; ycord2 = []\n",
    "    for i in range(lenData): #区分n类标签的点，将其表示为不同颜色的散点图\n",
    "        if int(clusterAssment[i][0])== 0:\n",
    "            xcord0.append(dataArr[i,0]); ycord0.append(dataArr[i,1])\n",
    "        elif int(clusterAssment[i][0])== 1:\n",
    "            xcord1.append(dataArr[i,0]); ycord1.append(dataArr[i,1])\n",
    "        else:\n",
    "            xcord2.append(dataArr[i,0]); ycord2.append(dataArr[i,1])\n",
    "    fig = plt.figure()\n",
    "    ax = fig.add_subplot(111)\n",
    "    ax.scatter(xcord0, ycord0, s=30, c='red', marker='s')\n",
    "    ax.scatter(xcord1, ycord1, s=30, c='green')\n",
    "    ax.scatter(xcord2, ycord2, s=30, c='brown')\n",
    "    for i in range(3):\n",
    "        plt.plot(centList[i,0], centList[i,1],'*')\n",
    "    plt.show()"
   ]
  },
  {
   "cell_type": "code",
   "execution_count": 44,
   "metadata": {
    "collapsed": false
   },
   "outputs": [
    {
     "data": {
      "image/png": "[encoded data removed]",
      "text/plain": [
       "<matplotlib.figure.Figure at 0x7f34e2562320>"
      ]
     },
     "metadata": {},
     "output_type": "display_data"
    }
   ],
   "source": [
    "plotBestFit(dataMat3,centList,myNewAssments)"
   ]
  },
  {
   "cell_type": "markdown",
   "metadata": {},
   "source": [
    "# 对地图上的点进行聚类"
   ]
  },
  {
   "cell_type": "code",
   "execution_count": null,
   "metadata": {
    "collapsed": true
   },
   "outputs": [],
   "source": []
  }
 ],
 "metadata": {
  "kernelspec": {
   "display_name": "Python 3",
   "language": "python",
   "name": "python3"
  },
  "language_info": {
   "codemirror_mode": {
    "name": "ipython",
    "version": 3
   },
   "file_extension": ".py",
   "mimetype": "text/x-python",
   "name": "python",
   "nbconvert_exporter": "python",
   "pygments_lexer": "ipython3",
   "version": "3.6.0"
  }
 },
 "nbformat": 4,
 "nbformat_minor": 2
}
